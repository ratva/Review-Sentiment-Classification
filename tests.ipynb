{
 "cells": [
  {
   "cell_type": "code",
   "execution_count": 3,
   "metadata": {},
   "outputs": [],
   "source": [
    "import numpy as np\n",
    "import pandas as pd\n",
    "import os\n",
    "from load_train_data import load_data \n",
    "#from clean_data import tokenize_text, create_word_list, make_feature_vector\n",
    "import sklearn.model_selection\n",
    "import sklearn.feature_selection\n",
    "from sklearn.feature_extraction.text import CountVectorizer"
   ]
  },
  {
   "cell_type": "code",
   "execution_count": null,
   "metadata": {},
   "outputs": [
    {
     "name": "stdout",
     "output_type": "stream",
     "text": [
      "0\n"
     ]
    },
    {
     "ename": "NameError",
     "evalue": "name 'load_data' is not defined",
     "output_type": "error",
     "traceback": [
      "\u001b[1;31m---------------------------------------------------------------------------\u001b[0m",
      "\u001b[1;31mNameError\u001b[0m                                 Traceback (most recent call last)",
      "\u001b[1;32mc:\\Users\\leigh\\cs135\\projectA\\tests.ipynb Cell 2\u001b[0m line \u001b[0;36m3\n\u001b[0;32m      <a href='vscode-notebook-cell:/c%3A/Users/leigh/cs135/projectA/tests.ipynb#W1sZmlsZQ%3D%3D?line=0'>1</a>\u001b[0m \u001b[39mprint\u001b[39m(\u001b[39m0\u001b[39m)\n\u001b[1;32m----> <a href='vscode-notebook-cell:/c%3A/Users/leigh/cs135/projectA/tests.ipynb#W1sZmlsZQ%3D%3D?line=2'>3</a>\u001b[0m website_list, vocab_list, rating_list \u001b[39m=\u001b[39m load_data(\u001b[39m'\u001b[39m\u001b[39mx_train.csv\u001b[39m\u001b[39m'\u001b[39m, \u001b[39m'\u001b[39m\u001b[39my_train.csv\u001b[39m\u001b[39m'\u001b[39m)\n\u001b[0;32m      <a href='vscode-notebook-cell:/c%3A/Users/leigh/cs135/projectA/tests.ipynb#W1sZmlsZQ%3D%3D?line=4'>5</a>\u001b[0m \u001b[39mprint\u001b[39m(\u001b[39m1\u001b[39m)\n\u001b[0;32m      <a href='vscode-notebook-cell:/c%3A/Users/leigh/cs135/projectA/tests.ipynb#W1sZmlsZQ%3D%3D?line=5'>6</a>\u001b[0m tokens \u001b[39m=\u001b[39m tokenize_text(vocab_list)\n",
      "\u001b[1;31mNameError\u001b[0m: name 'load_data' is not defined"
     ]
    }
   ],
   "source": [
    "print(0)\n",
    "\n",
    "website_list, vocab_list, rating_list = load_data('x_train.csv', 'y_train.csv')\n",
    "\n",
    "print(1)\n",
    "tokens = tokenize_text(vocab_list)\n",
    "\n",
    "word_count_dict = create_word_list(tokens)\n",
    "\n",
    "#threshold of words that are infrequent is 3 right now. Change later(?)\n",
    "sorted_tokens = list(sorted(word_count_dict, key=word_count_dict.get, reverse=True))\n",
    "# vocab_list = [w for w in sorted_tokens if word_count_dict[w] >= 3]\n",
    "print(sorted_tokens)\n",
    "print(rating_list)\n",
    "a_review = 'It feels poorly constructed, the menus are difficult to navigate, and the buttons are so recessed that it is difficult to push them.'\n",
    "make_feature_vector(a_review, word_count_dict)\n",
    "\n",
    "pos_review = 0\n",
    "if rating_list == 1:\n",
    "    pos_review += 1\n",
    "\n"
   ]
  },
  {
   "cell_type": "code",
   "execution_count": 8,
   "metadata": {},
   "outputs": [
    {
     "ename": "NameError",
     "evalue": "name 'CountVectorizer' is not defined",
     "output_type": "error",
     "traceback": [
      "\u001b[1;31m---------------------------------------------------------------------------\u001b[0m",
      "\u001b[1;31mNameError\u001b[0m                                 Traceback (most recent call last)",
      "\u001b[1;32mc:\\Users\\leigh\\cs135\\projectA\\tests.ipynb Cell 3\u001b[0m line \u001b[0;36m1\n\u001b[1;32m----> <a href='vscode-notebook-cell:/c%3A/Users/leigh/cs135/projectA/tests.ipynb#W2sZmlsZQ%3D%3D?line=0'>1</a>\u001b[0m bow_cleaner \u001b[39m=\u001b[39m CountVectorizer(ngram_range\u001b[39m=\u001b[39m(\u001b[39m1\u001b[39m,\u001b[39m1\u001b[39m), min_df\u001b[39m=\u001b[39m\u001b[39m1\u001b[39m, max_df\u001b[39m=\u001b[39m\u001b[39m1.0\u001b[39m, tokenizer\u001b[39m=\u001b[39m\u001b[39mTrue\u001b[39;00m, vocabulary\u001b[39m=\u001b[39m\u001b[39mNone\u001b[39;00m)\n\u001b[0;32m      <a href='vscode-notebook-cell:/c%3A/Users/leigh/cs135/projectA/tests.ipynb#W2sZmlsZQ%3D%3D?line=1'>2</a>\u001b[0m bow_cleaner\u001b[39m.\u001b[39mfit(rating_list)\n",
      "\u001b[1;31mNameError\u001b[0m: name 'CountVectorizer' is not defined"
     ]
    }
   ],
   "source": [
    "bow_cleaner = CountVectorizer(ngram_range=(1,1), min_df=1, max_df=1.0, tokenizer=True, vocabulary=None)\n",
    "bow_cleaner.fit(rating_list)"
   ]
  }
 ],
 "metadata": {
  "kernelspec": {
   "display_name": "Python 3",
   "language": "python",
   "name": "python3"
  },
  "language_info": {
   "codemirror_mode": {
    "name": "ipython",
    "version": 3
   },
   "file_extension": ".py",
   "mimetype": "text/x-python",
   "name": "python",
   "nbconvert_exporter": "python",
   "pygments_lexer": "ipython3",
   "version": "3.10.12"
  }
 },
 "nbformat": 4,
 "nbformat_minor": 2
}
