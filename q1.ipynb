{
 "cells": [
  {
   "cell_type": "markdown",
   "metadata": {},
   "source": [
    "Import libraries"
   ]
  },
  {
   "cell_type": "code",
   "execution_count": 5,
   "metadata": {},
   "outputs": [],
   "source": [
    "import os\n",
    "# from load_train_data import load_data \n",
    "# from clean_data import tokenize_text, create_word_list, make_feature_vector\n",
    "import numpy as np\n",
    "import pandas as pd\n",
    "import sklearn.linear_model as sklm\n",
    "import sklearn.pipeline\n",
    "import sklearn.model_selection as skms\n",
    "import sklearn.feature_selection \n",
    "from sklearn.feature_extraction.text import CountVectorizer\n",
    "from scipy.stats import uniform"
   ]
  },
  {
   "cell_type": "markdown",
   "metadata": {},
   "source": [
    "Load Data"
   ]
  },
  {
   "cell_type": "code",
   "execution_count": 6,
   "metadata": {},
   "outputs": [],
   "source": [
    "x_data ='x_train.csv'\n",
    "y_data ='y_train.csv'\n",
    "x_data_test ='x_test.csv'\n",
    "\n",
    "# load_data(x_data, y_data):\n",
    "data_dir = 'data_reviews'\n",
    "x_df = pd.read_csv(os.path.join(data_dir, x_data))\n",
    "y_df = pd.read_csv(os.path.join(data_dir, y_data))\n",
    "x_df_test = pd.read_csv(os.path.join(data_dir, x_data_test))\n",
    "N, n_cols = x_df.shape\n",
    "\n",
    "# print(\"Shape of x_df: (%d, %d)\" % (N,n_cols))\n",
    "# print(\"Shape of y_df: %s\" % str(y_df.shape))\n",
    "# print(type(x_df))\n",
    "# print(type(y_df))\n",
    "\n",
    "# Print out the first five rows and last five rows\n",
    "website_list = x_df['website_name'].values.tolist()\n",
    "text_list = x_df['text'].values.tolist()\n",
    "rating_list = y_df['is_positive_sentiment'].values.tolist()\n",
    "# print(text_list)\n",
    "# return website_list, text_list, rating_list"
   ]
  },
  {
   "cell_type": "markdown",
   "metadata": {},
   "source": [
    "Is the fit_transform doing the bow_classifier.fit() and bow_classifier.transform()?\n",
    "bow_classifier.transform()\n",
    "bow_classifier.transform(reviews_list)\n",
    "\n",
    "Did some tests over in tests.ipynb\n",
    "iris = load_iris()\n",
    "logistic = sklm.LogisticRegression(solver='saga', tol=1e-2, max_iter=200,random_state=0)\n",
    "distributions = dict(C=uniform(loc=0, scale=4), penalty=['l2', 'l1'])\n",
    "clf = skms.RandomizedSearchCV(logistic, distributions, random_state=0)\n",
    "search = clf.fit(iris.data, iris.target)\n",
    "search.best_params_"
   ]
  },
  {
   "cell_type": "code",
   "execution_count": 7,
   "metadata": {},
   "outputs": [],
   "source": [
    "\n",
    "# # def clean_words(web_list, reviews_list, stars_list, n_folds):\n",
    "# bow_classifier = sklearn.pipeline.Pipeline([\n",
    "#     ('bow feature extractor', CountVectorizer(ngram_range=(1,1), min_df=1, max_df=1.0, binary=False)),\n",
    "#     ('classifying', sklm.LogisticRegression(C = 1.0, max_iter=20, random_state=101)),\n",
    "#     #('Random C search', )\n",
    "#     #('cross validating', skms.RepeatedKFold(n_splits = n_folds, n_repeats = 1, random_state = 1))\n",
    "    \n",
    "#     ])\n",
    "\n",
    "# bow_classifier.fit(text_list, rating_list)\n",
    "# bow_classifier.predict(x_data_test)\n",
    "\n",
    "# bow_feature_extractor_bow_classifier = dict()\n",
    "# bow_feature_extractor_bow_classifier['bow_feature_extractor__min_df'] = [1, 2, 4]\n",
    "# bow_feature_extractor_bow_classifier['classifying__C'] = np.logspace(-4, 4, 9)\n",
    "# scoring_metric_name = 'ROC Area'\n"
   ]
  },
  {
   "cell_type": "code",
   "execution_count": 11,
   "metadata": {},
   "outputs": [
    {
     "name": "stdout",
     "output_type": "stream",
     "text": [
      "x_test.csv\n"
     ]
    },
    {
     "ename": "TypeError",
     "evalue": "_VectorizerMixin.build_preprocessor() takes 1 positional argument but 2 were given",
     "output_type": "error",
     "traceback": [
      "\u001b[1;31m---------------------------------------------------------------------------\u001b[0m",
      "\u001b[1;31mTypeError\u001b[0m                                 Traceback (most recent call last)",
      "\u001b[1;32mc:\\Users\\avtar\\OneDrive - Tufts\\Tufts CS\\CS135 Intro to ML\\projectA\\CS135-Project-A\\q1.ipynb Cell 7\u001b[0m line \u001b[0;36m3\n\u001b[0;32m      <a href='vscode-notebook-cell:/c%3A/Users/avtar/OneDrive%20-%20Tufts/Tufts%20CS/CS135%20Intro%20to%20ML/projectA/CS135-Project-A/q1.ipynb#X12sZmlsZQ%3D%3D?line=0'>1</a>\u001b[0m bow_process \u001b[39m=\u001b[39m CountVectorizer(\u001b[39minput\u001b[39m\u001b[39m=\u001b[39mx_data_test, ngram_range\u001b[39m=\u001b[39m(\u001b[39m1\u001b[39m,\u001b[39m1\u001b[39m), min_df\u001b[39m=\u001b[39m\u001b[39m1\u001b[39m, max_df\u001b[39m=\u001b[39m\u001b[39m1.0\u001b[39m, binary\u001b[39m=\u001b[39m\u001b[39mFalse\u001b[39;00m)\n\u001b[0;32m      <a href='vscode-notebook-cell:/c%3A/Users/avtar/OneDrive%20-%20Tufts/Tufts%20CS/CS135%20Intro%20to%20ML/projectA/CS135-Project-A/q1.ipynb#X12sZmlsZQ%3D%3D?line=1'>2</a>\u001b[0m \u001b[39mprint\u001b[39m(x_data_test)\n\u001b[1;32m----> <a href='vscode-notebook-cell:/c%3A/Users/avtar/OneDrive%20-%20Tufts/Tufts%20CS/CS135%20Intro%20to%20ML/projectA/CS135-Project-A/q1.ipynb#X12sZmlsZQ%3D%3D?line=2'>3</a>\u001b[0m cleaned \u001b[39m=\u001b[39m bow_process\u001b[39m.\u001b[39;49mbuild_preprocessor(x_data_test)\n\u001b[0;32m      <a href='vscode-notebook-cell:/c%3A/Users/avtar/OneDrive%20-%20Tufts/Tufts%20CS/CS135%20Intro%20to%20ML/projectA/CS135-Project-A/q1.ipynb#X12sZmlsZQ%3D%3D?line=4'>5</a>\u001b[0m \u001b[39mprint\u001b[39m(cleaned)\n",
      "\u001b[1;31mTypeError\u001b[0m: _VectorizerMixin.build_preprocessor() takes 1 positional argument but 2 were given"
     ]
    }
   ],
   "source": [
    "bow_process = CountVectorizer(input=x_data_test, ngram_range=(1,1), min_df=1, max_df=1.0, binary=False)\n",
    "print(x_data_test)\n",
    "cleaned = bow_process.build_preprocessor(x_df_test)\n",
    "\n",
    "print(cleaned)"
   ]
  },
  {
   "cell_type": "code",
   "execution_count": 9,
   "metadata": {},
   "outputs": [
    {
     "data": {
      "text/html": [
       "<style>#sk-container-id-1 {color: black;background-color: white;}#sk-container-id-1 pre{padding: 0;}#sk-container-id-1 div.sk-toggleable {background-color: white;}#sk-container-id-1 label.sk-toggleable__label {cursor: pointer;display: block;width: 100%;margin-bottom: 0;padding: 0.3em;box-sizing: border-box;text-align: center;}#sk-container-id-1 label.sk-toggleable__label-arrow:before {content: \"▸\";float: left;margin-right: 0.25em;color: #696969;}#sk-container-id-1 label.sk-toggleable__label-arrow:hover:before {color: black;}#sk-container-id-1 div.sk-estimator:hover label.sk-toggleable__label-arrow:before {color: black;}#sk-container-id-1 div.sk-toggleable__content {max-height: 0;max-width: 0;overflow: hidden;text-align: left;background-color: #f0f8ff;}#sk-container-id-1 div.sk-toggleable__content pre {margin: 0.2em;color: black;border-radius: 0.25em;background-color: #f0f8ff;}#sk-container-id-1 input.sk-toggleable__control:checked~div.sk-toggleable__content {max-height: 200px;max-width: 100%;overflow: auto;}#sk-container-id-1 input.sk-toggleable__control:checked~label.sk-toggleable__label-arrow:before {content: \"▾\";}#sk-container-id-1 div.sk-estimator input.sk-toggleable__control:checked~label.sk-toggleable__label {background-color: #d4ebff;}#sk-container-id-1 div.sk-label input.sk-toggleable__control:checked~label.sk-toggleable__label {background-color: #d4ebff;}#sk-container-id-1 input.sk-hidden--visually {border: 0;clip: rect(1px 1px 1px 1px);clip: rect(1px, 1px, 1px, 1px);height: 1px;margin: -1px;overflow: hidden;padding: 0;position: absolute;width: 1px;}#sk-container-id-1 div.sk-estimator {font-family: monospace;background-color: #f0f8ff;border: 1px dotted black;border-radius: 0.25em;box-sizing: border-box;margin-bottom: 0.5em;}#sk-container-id-1 div.sk-estimator:hover {background-color: #d4ebff;}#sk-container-id-1 div.sk-parallel-item::after {content: \"\";width: 100%;border-bottom: 1px solid gray;flex-grow: 1;}#sk-container-id-1 div.sk-label:hover label.sk-toggleable__label {background-color: #d4ebff;}#sk-container-id-1 div.sk-serial::before {content: \"\";position: absolute;border-left: 1px solid gray;box-sizing: border-box;top: 0;bottom: 0;left: 50%;z-index: 0;}#sk-container-id-1 div.sk-serial {display: flex;flex-direction: column;align-items: center;background-color: white;padding-right: 0.2em;padding-left: 0.2em;position: relative;}#sk-container-id-1 div.sk-item {position: relative;z-index: 1;}#sk-container-id-1 div.sk-parallel {display: flex;align-items: stretch;justify-content: center;background-color: white;position: relative;}#sk-container-id-1 div.sk-item::before, #sk-container-id-1 div.sk-parallel-item::before {content: \"\";position: absolute;border-left: 1px solid gray;box-sizing: border-box;top: 0;bottom: 0;left: 50%;z-index: -1;}#sk-container-id-1 div.sk-parallel-item {display: flex;flex-direction: column;z-index: 1;position: relative;background-color: white;}#sk-container-id-1 div.sk-parallel-item:first-child::after {align-self: flex-end;width: 50%;}#sk-container-id-1 div.sk-parallel-item:last-child::after {align-self: flex-start;width: 50%;}#sk-container-id-1 div.sk-parallel-item:only-child::after {width: 0;}#sk-container-id-1 div.sk-dashed-wrapped {border: 1px dashed gray;margin: 0 0.4em 0.5em 0.4em;box-sizing: border-box;padding-bottom: 0.4em;background-color: white;}#sk-container-id-1 div.sk-label label {font-family: monospace;font-weight: bold;display: inline-block;line-height: 1.2em;}#sk-container-id-1 div.sk-label-container {text-align: center;}#sk-container-id-1 div.sk-container {/* jupyter's `normalize.less` sets `[hidden] { display: none; }` but bootstrap.min.css set `[hidden] { display: none !important; }` so we also need the `!important` here to be able to override the default hidden behavior on the sphinx rendered scikit-learn.org. See: https://github.com/scikit-learn/scikit-learn/issues/21755 */display: inline-block !important;position: relative;}#sk-container-id-1 div.sk-text-repr-fallback {display: none;}</style><div id=\"sk-container-id-1\" class=\"sk-top-container\"><div class=\"sk-text-repr-fallback\"><pre>LogisticRegression(max_iter=20, random_state=101)</pre><b>In a Jupyter environment, please rerun this cell to show the HTML representation or trust the notebook. <br />On GitHub, the HTML representation is unable to render, please try loading this page with nbviewer.org.</b></div><div class=\"sk-container\" hidden><div class=\"sk-item\"><div class=\"sk-estimator sk-toggleable\"><input class=\"sk-toggleable__control sk-hidden--visually\" id=\"sk-estimator-id-1\" type=\"checkbox\" checked><label for=\"sk-estimator-id-1\" class=\"sk-toggleable__label sk-toggleable__label-arrow\">LogisticRegression</label><div class=\"sk-toggleable__content\"><pre>LogisticRegression(max_iter=20, random_state=101)</pre></div></div></div></div></div>"
      ],
      "text/plain": [
       "LogisticRegression(max_iter=20, random_state=101)"
      ]
     },
     "execution_count": 9,
     "metadata": {},
     "output_type": "execute_result"
    }
   ],
   "source": [
    "sklm.LogisticRegression(C = 1.0, max_iter=20, random_state=101)"
   ]
  }
 ],
 "metadata": {
  "kernelspec": {
   "display_name": "Python 3",
   "language": "python",
   "name": "python3"
  },
  "language_info": {
   "codemirror_mode": {
    "name": "ipython",
    "version": 3
   },
   "file_extension": ".py",
   "mimetype": "text/x-python",
   "name": "python",
   "nbconvert_exporter": "python",
   "pygments_lexer": "ipython3",
   "version": "3.10.13"
  }
 },
 "nbformat": 4,
 "nbformat_minor": 2
}
